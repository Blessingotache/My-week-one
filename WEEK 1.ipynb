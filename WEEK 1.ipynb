{
 "cells": [
  {
   "cell_type": "markdown",
   "id": "78c37a01",
   "metadata": {},
   "source": [
    "####Open a Jupyter Notebook and create a new Python notebook. Add markdown text to explain the purpose of the notebook\n",
    "# This Jupyter notebook is my week 1 python exercises. These exercises was to exposed me to:\n",
    "- Introduction to Jupyter Notebook\n",
    "- Data Types in Python\n",
    "- Expressions and Variables\n",
    "- String Operations\n",
    "- Lists/Tuples\n",
    "- Dictionaries\n",
    "- Sets\n"
   ]
  },
  {
   "cell_type": "markdown",
   "id": "8ad43df0",
   "metadata": {},
   "source": [
    "###Create a markdown cell with a title, a numbered list, and a bulleted list\n",
    "## Features of Jupyter Notebook\n",
    "1. Easy to use\n",
    "2. Supports multiple programming languages\n",
    "3. Integrates with data visualization libraries\n",
    "\n",
    "- Flexible\n",
    "- Open-source\n",
    "- Widely used in data science"
   ]
  },
  {
   "cell_type": "code",
   "execution_count": 2,
   "id": "3454bd6c",
   "metadata": {},
   "outputs": [
    {
     "name": "stdout",
     "output_type": "stream",
     "text": [
      "Hello World!\n"
     ]
    }
   ],
   "source": [
    "#Write a code cell that prints \"Hello, World!\" and execute the cell\n",
    "\n",
    "print('Hello, World!')"
   ]
  },
  {
   "cell_type": "markdown",
   "id": "43fd7d0b",
   "metadata": {},
   "source": [
    "#Use a markdown cell to add an image or a hyperlink to a website of your choice\n",
    "![Python Logo](https://www.python.org/static/community_logos/python-logo.png)"
   ]
  },
  {
   "cell_type": "markdown",
   "id": "8da45f13",
   "metadata": {},
   "source": [
    "[Visit Python's Official Website](https://www.python.org)"
   ]
  },
  {
   "cell_type": "code",
   "execution_count": 1,
   "id": "eaa2fa45",
   "metadata": {},
   "outputs": [
    {
     "name": "stdout",
     "output_type": "stream",
     "text": [
      "Addition: 15\n",
      "Subtraction: 5\n"
     ]
    }
   ],
   "source": [
    "#Create a notebook cell to perform addition and subtraction of two numbers\n",
    "\n",
    "a = 10\n",
    "b = 5\n",
    "print(\"Addition:\", a + b)\n",
    "print(\"Subtraction:\", a - b)"
   ]
  },
  {
   "cell_type": "code",
   "execution_count": 2,
   "id": "9819de14",
   "metadata": {},
   "outputs": [
    {
     "name": "stdout",
     "output_type": "stream",
     "text": [
      "Help on built-in function print in module builtins:\n",
      "\n",
      "print(...)\n",
      "    print(value, ..., sep=' ', end='\\n', file=sys.stdout, flush=False)\n",
      "    \n",
      "    Prints the values to a stream, or to sys.stdout by default.\n",
      "    Optional keyword arguments:\n",
      "    file:  a file-like object (stream); defaults to the current sys.stdout.\n",
      "    sep:   string inserted between values, default a space.\n",
      "    end:   string appended after the last value, default a newline.\n",
      "    flush: whether to forcibly flush the stream.\n",
      "\n"
     ]
    }
   ],
   "source": [
    "#Use the help() function in a cell to get documentation for the print() function.\n",
    "\n",
    "help(print)"
   ]
  },
  {
   "cell_type": "code",
   "execution_count": null,
   "id": "8bc3ae62",
   "metadata": {},
   "outputs": [],
   "source": [
    "#Save your notebook and export it as a .html file."
   ]
  },
  {
   "cell_type": "code",
   "execution_count": 6,
   "id": "7a454f06",
   "metadata": {},
   "outputs": [
    {
     "name": "stdout",
     "output_type": "stream",
     "text": [
      "Addition: 22\n",
      "Subtraction: 8\n"
     ]
    }
   ],
   "source": [
    "#Create a cell with multiple lines of comments explaining your code\n",
    "\n",
    "# This cell demonstrates basic arithmetic operations.\n",
    "# We are adding and subtracting two numbers.\n",
    "a = 15\n",
    "b = 7\n",
    "print(\"Addition:\", a + b)  # Adding a and b\n",
    "print(\"Subtraction:\", a - b)  # Subtracting b from a\n"
   ]
  },
  {
   "cell_type": "code",
   "execution_count": 1,
   "id": "2745e377",
   "metadata": {},
   "outputs": [
    {
     "name": "stdout",
     "output_type": "stream",
     "text": [
      "Wall time: 1.01 ms\n",
      "result\t \n"
     ]
    }
   ],
   "source": [
    "#Use magic commands (%time, %who) in a cell to measure execution time or list variables.\n",
    "# Measure the execution time of a statement\n",
    "%time result = [x**2 for x in range(1000)]\n",
    "\n",
    "# List all defined variables in the current session\n",
    "%who\n"
   ]
  },
  {
   "cell_type": "markdown",
   "id": "5d69a582",
   "metadata": {},
   "source": [
    "#Create a simple table in a markdown cell to display your name, age, and profession.\n",
    "\n",
    "| Name      | Age | Profession         |\n",
    "|-----------|-----|---------------------|\n",
    "| Blessing  | 25  | Data Analyst       |\n"
   ]
  },
  {
   "cell_type": "markdown",
   "id": "7b6f6d96",
   "metadata": {},
   "source": [
    "# Data Types in Python"
   ]
  },
  {
   "cell_type": "code",
   "execution_count": 5,
   "id": "2cb50797",
   "metadata": {},
   "outputs": [
    {
     "name": "stdout",
     "output_type": "stream",
     "text": [
      "<class 'int'>\n",
      "<class 'float'>\n",
      "<class 'str'>\n",
      "<class 'list'>\n",
      "<class 'dict'>\n"
     ]
    }
   ],
   "source": [
    "#Identify the data type of the following values in Python:\n",
    "#42\n",
    "#3.14\n",
    "#\"Python\"\n",
    "#[1, 2, 3]\n",
    "#{ \"name\": \"John\", \"age\": 30 }\n",
    "\n",
    "print(type(42))  # int\n",
    "print(type(3.14))  # float\n",
    "print(type(\"Python 101\"))  # str\n",
    "print(type([1, 2, 3]))  # list\n",
    "print(type({\"name\": \"John\", \"age\": 30}))  # dict"
   ]
  },
  {
   "cell_type": "code",
   "execution_count": 3,
   "id": "ea14c2ec",
   "metadata": {},
   "outputs": [
    {
     "name": "stdout",
     "output_type": "stream",
     "text": [
      "42.0 <class 'float'>\n",
      "42 <class 'str'>\n"
     ]
    }
   ],
   "source": [
    "#Convert an integer (e.g., 42) to a float and a string\n",
    "\n",
    "num = 42\n",
    "float_num = float(num)\n",
    "str_num = str(num)\n",
    "print(float_num, type(float_num))  # Convert to float\n",
    "print(str_num, type(str_num))  # Convert to string\n"
   ]
  },
  {
   "cell_type": "code",
   "execution_count": 17,
   "id": "4e5bff78",
   "metadata": {},
   "outputs": [
    {
     "name": "stdout",
     "output_type": "stream",
     "text": [
      "<class 'list'>\n"
     ]
    }
   ],
   "source": [
    "#Create a list of your five favorite fruits and print its data type.\n",
    "\n",
    "fruits = [\"Apple\", \"Banana\", \"Cherry\", \"Mango\", \"Grapes\"]\n",
    "print(type(fruits))"
   ]
  },
  {
   "cell_type": "code",
   "execution_count": 6,
   "id": "e2d824a7",
   "metadata": {},
   "outputs": [
    {
     "name": "stdout",
     "output_type": "stream",
     "text": [
      "The variable is of type str.\n"
     ]
    }
   ],
   "source": [
    "#Write a program to check if a variable is of type str.\n",
    "\n",
    "variable = \"Hello, World!\"\n",
    "if isinstance(variable, str):\n",
    "    print(\"The variable is of type str.\")\n",
    "else:\n",
    "    print(\"The variable is not of type str.\")\n"
   ]
  },
  {
   "cell_type": "code",
   "execution_count": 7,
   "id": "ed5cfccb",
   "metadata": {},
   "outputs": [
    {
     "name": "stdout",
     "output_type": "stream",
     "text": [
      "Python\n"
     ]
    }
   ],
   "source": [
    "#Create a tuple with three different data types and access the second element\n",
    "\n",
    "my_tuple = (42, \"Python\", 3.14)\n",
    "print(my_tuple[1])  # Access the second element\n"
   ]
  },
  {
   "cell_type": "code",
   "execution_count": 20,
   "id": "50d68894",
   "metadata": {},
   "outputs": [
    {
     "name": "stdout",
     "output_type": "stream",
     "text": [
      "25\n"
     ]
    }
   ],
   "source": [
    "#Create a dictionary with three key-value pairs and retrieve the value of a specific key\n",
    "\n",
    "my_dict = {\"name\": \"Alice\", \"age\": 25, \"city\": \"New York\"}\n",
    "print(my_dict[\"age\"])  # Retrieve the value for the key \"age\"\n"
   ]
  },
  {
   "cell_type": "code",
   "execution_count": 21,
   "id": "78b9510b",
   "metadata": {},
   "outputs": [
    {
     "name": "stdout",
     "output_type": "stream",
     "text": [
      "25\n"
     ]
    }
   ],
   "source": [
    "my_dict = {\"name\": \"Alice\", \"age\": 25, \"city\": \"New York\"}\n",
    "print(my_dict[\"age\"])  # Retrieve the value for the key \"age\"\n"
   ]
  },
  {
   "cell_type": "code",
   "execution_count": 8,
   "id": "11a4ffe4",
   "metadata": {},
   "outputs": [
    {
     "name": "stdout",
     "output_type": "stream",
     "text": [
      "<class 'int'>\n",
      "<class 'str'>\n",
      "<class 'list'>\n"
     ]
    }
   ],
   "source": [
    "#Use the type() function to verify the data type of variables\n",
    "\n",
    "a = 10\n",
    "b = \"Data Science\"\n",
    "c = [1, 2, 3]\n",
    "print(type(a))  # int\n",
    "print(type(b))  # str\n",
    "print(type(c))  # list\n"
   ]
  },
  {
   "cell_type": "code",
   "execution_count": 23,
   "id": "1e982c91",
   "metadata": {},
   "outputs": [
    {
     "name": "stdout",
     "output_type": "stream",
     "text": [
      "Original float: 3.99\n",
      "After typecasting to int: 3\n"
     ]
    }
   ],
   "source": [
    "#Write a script to perform typecasting of a float to an integer and observe the changes\n",
    "\n",
    "my_float = 3.99\n",
    "my_int = int(my_float)\n",
    "print(\"Original float:\", my_float)\n",
    "print(\"After typecasting to int:\", my_int)\n"
   ]
  },
  {
   "cell_type": "code",
   "execution_count": 38,
   "id": "6b1bd4fd",
   "metadata": {},
   "outputs": [
    {
     "name": "stdout",
     "output_type": "stream",
     "text": [
      "Enter something: 5.8\n",
      "You entered a string.\n"
     ]
    }
   ],
   "source": [
    "#Create a program that checks whether an input is a number or a string.\n",
    "\n",
    "user_input = input(\"Enter something: \")\n",
    "if user_input.isdigit():\n",
    "    print(\"You entered a number.\")\n",
    "else:\n",
    "    print(\"You entered a string.\")\n"
   ]
  },
  {
   "cell_type": "code",
   "execution_count": 9,
   "id": "da398dc9",
   "metadata": {},
   "outputs": [
    {
     "name": "stdout",
     "output_type": "stream",
     "text": [
      "Length of list: 5\n",
      "Length of tuple: 3\n",
      "Length of dictionary: 3\n"
     ]
    }
   ],
   "source": [
    "#Write a program to calculate the length of a list, tuple, and dictionary.\n",
    "\n",
    "my_list = [1, 2, 3, 4, 5]\n",
    "my_tuple = (10, 20, 30)\n",
    "my_dict = {\"a\": 1, \"b\": 2, \"c\": 3}\n",
    "\n",
    "print(\"Length of list:\", len(my_list))\n",
    "print(\"Length of tuple:\", len(my_tuple))\n",
    "print(\"Length of dictionary:\", len(my_dict))"
   ]
  },
  {
   "cell_type": "markdown",
   "id": "e92a3e22",
   "metadata": {},
   "source": [
    "# Expressions and Variables"
   ]
  },
  {
   "cell_type": "code",
   "execution_count": 27,
   "id": "c436ced2",
   "metadata": {},
   "outputs": [
    {
     "name": "stdout",
     "output_type": "stream",
     "text": [
      "20\n"
     ]
    }
   ],
   "source": [
    "#Assign values to three variables (x, y, z) and calculate their sum.\n",
    "\n",
    "x = 3\n",
    "y = 7\n",
    "z = 10\n",
    "total = x + y + z\n",
    "print(total)"
   ]
  },
  {
   "cell_type": "code",
   "execution_count": 28,
   "id": "402a90f0",
   "metadata": {},
   "outputs": [
    {
     "name": "stdout",
     "output_type": "stream",
     "text": [
      "Before swap: a = 5 , b = 10\n",
      "After swap: a = 10 , b = 5\n"
     ]
    }
   ],
   "source": [
    "#Write a program to swap the values of two variables\n",
    "\n",
    "a, b = 5, 10\n",
    "print(\"Before swap: a =\", a, \", b =\", b)\n",
    "a, b = b, a  # Swapping\n",
    "print(\"After swap: a =\", a, \", b =\", b)\n"
   ]
  },
  {
   "cell_type": "code",
   "execution_count": 29,
   "id": "c35d554d",
   "metadata": {},
   "outputs": [
    {
     "name": "stdout",
     "output_type": "stream",
     "text": [
      "Hello, Blessing!\n"
     ]
    }
   ],
   "source": [
    "#Assign a string to a variable and concatenate it with another string\n",
    "\n",
    "greeting = \"Hello\"\n",
    "name = \"Blessing\"\n",
    "message = greeting + \", \" + name + \"!\"\n",
    "print(message)"
   ]
  },
  {
   "cell_type": "code",
   "execution_count": 30,
   "id": "287f6f34",
   "metadata": {},
   "outputs": [
    {
     "name": "stdout",
     "output_type": "stream",
     "text": [
      "After += 5: 15\n",
      "After *= 2: 30\n",
      "After -= 3: 27\n"
     ]
    }
   ],
   "source": [
    "#Use compound assignment operators (+=, *=, etc.) with variables to perform operations.\n",
    "\n",
    "num = 10\n",
    "num += 5  # Increment by 5\n",
    "print(\"After += 5:\", num)\n",
    "num *= 2  # Multiply by 2\n",
    "print(\"After *= 2:\", num)\n",
    "num -= 3  # Decrement by 3\n",
    "print(\"After -= 3:\", num)\n"
   ]
  },
  {
   "cell_type": "code",
   "execution_count": 31,
   "id": "8055e305",
   "metadata": {},
   "outputs": [
    {
     "name": "stdout",
     "output_type": "stream",
     "text": [
      "Area of the circle: 153.93804002589985\n"
     ]
    }
   ],
   "source": [
    "#Write an expression that calculates the area of a circle given the radius stored in a variable.\n",
    "\n",
    "import math\n",
    "radius = 7\n",
    "area = math.pi * radius ** 2\n",
    "print(\"Area of the circle:\", area)\n"
   ]
  },
  {
   "cell_type": "code",
   "execution_count": 32,
   "id": "4bd330e2",
   "metadata": {},
   "outputs": [
    {
     "name": "stdout",
     "output_type": "stream",
     "text": [
      "Roots are: 2.0 and 1.0\n"
     ]
    }
   ],
   "source": [
    "#Use variables to store values for a quadratic equation and compute its roots.\n",
    "\n",
    "import math\n",
    "a, b, c = 1, -3, 2  # Coefficients of the quadratic equation ax^2 + bx + c = 0\n",
    "discriminant = b**2 - 4*a*c\n",
    "\n",
    "if discriminant >= 0:\n",
    "    root1 = (-b + math.sqrt(discriminant)) / (2*a)\n",
    "    root2 = (-b - math.sqrt(discriminant)) / (2*a)\n",
    "    print(\"Roots are:\", root1, \"and\", root2)\n",
    "else:\n",
    "    print(\"No real roots\")\n"
   ]
  },
  {
   "cell_type": "code",
   "execution_count": 33,
   "id": "f3010cb0",
   "metadata": {},
   "outputs": [
    {
     "name": "stdout",
     "output_type": "stream",
     "text": [
      "Value: 42\n",
      "Memory location: 1776064556624\n"
     ]
    }
   ],
   "source": [
    "#Assign a value to a variable and print its memory location using the id() function\n",
    "\n",
    "value = 42\n",
    "print(\"Value:\", value)\n",
    "print(\"Memory location:\", id(value))\n"
   ]
  },
  {
   "cell_type": "code",
   "execution_count": 10,
   "id": "96ce8bc8",
   "metadata": {},
   "outputs": [
    {
     "name": "stdout",
     "output_type": "stream",
     "text": [
      "Good Morning, Blessing!\n"
     ]
    }
   ],
   "source": [
    "#Create a variable to store a person's name and use it in a print statement with a greeting.\n",
    "\n",
    "name = \"Blessing\"\n",
    "print(\"Good Morning, \" + name + \"!\")"
   ]
  },
  {
   "cell_type": "code",
   "execution_count": 35,
   "id": "ae10dcd4",
   "metadata": {},
   "outputs": [
    {
     "name": "stdout",
     "output_type": "stream",
     "text": [
      "Result of the expression: True\n"
     ]
    }
   ],
   "source": [
    "#Use an expression with both arithmetic and logical operators, and assign the result to a variable.\n",
    "\n",
    "a, b, c = 10, 20, 15\n",
    "result = (a + b > c) and (b - c < a)\n",
    "print(\"Result of the expression:\", result)\n"
   ]
  },
  {
   "cell_type": "code",
   "execution_count": 11,
   "id": "a75395c0",
   "metadata": {},
   "outputs": [
    {
     "name": "stdout",
     "output_type": "stream",
     "text": [
      "Enter the value of a: 5\n",
      "Enter the value of b: 7\n",
      "The result of (5.0 + 7.0)^2 is: 144.0\n"
     ]
    }
   ],
   "source": [
    "#Write a program to solve (a + b)^2 using variables a and b.\n",
    "\n",
    "# Define the variables\n",
    "a = float(input(\"Enter the value of a: \"))\n",
    "b = float(input(\"Enter the value of b: \"))\n",
    "\n",
    "# Calculate (a + b)^2\n",
    "result = (a + b) ** 2\n",
    "\n",
    "# Display the result\n",
    "print(f\"The result of ({a} + {b})^2 is: {result}\")\n"
   ]
  },
  {
   "cell_type": "markdown",
   "id": "aa86efd6",
   "metadata": {},
   "source": [
    "# String Operations"
   ]
  },
  {
   "cell_type": "code",
   "execution_count": 55,
   "id": "f5c86f1b",
   "metadata": {},
   "outputs": [
    {
     "name": "stdout",
     "output_type": "stream",
     "text": [
      "Blessing Otache\n"
     ]
    }
   ],
   "source": [
    "#Write a Python program to concatenate two strings using the + operator.\n",
    "\n",
    "firstName = \"Blessing\"\n",
    "lastName = \"Otache\"\n",
    "fullName = firstName + \" \" + lastName\n",
    "print(fullName)"
   ]
  },
  {
   "cell_type": "code",
   "execution_count": 2,
   "id": "08044946",
   "metadata": {},
   "outputs": [
    {
     "name": "stdout",
     "output_type": "stream",
     "text": [
      "12\n"
     ]
    }
   ],
   "source": [
    "#the length of a given string using the len() function\n",
    "\n",
    "length = \"Hard working\"\n",
    "print(len(length))"
   ]
  },
  {
   "cell_type": "code",
   "execution_count": 5,
   "id": "07bf194e",
   "metadata": {},
   "outputs": [
    {
     "name": "stdout",
     "output_type": "stream",
     "text": [
      "firstFive character: Ambig\n"
     ]
    }
   ],
   "source": [
    "# Extract the first five characters of a string using slicing.\n",
    "\n",
    "characters = \"Ambiguous\"\n",
    "firstFive = characters[0:5]\n",
    "print(\"firstFive character:\", firstFive)"
   ]
  },
  {
   "cell_type": "code",
   "execution_count": 8,
   "id": "7fcb5033",
   "metadata": {},
   "outputs": [
    {
     "name": "stdout",
     "output_type": "stream",
     "text": [
      "Uppercase: PYTHON IS A PROGRAMMING LANGUAGUE\n",
      "Lowercase: python is a programming languague\n"
     ]
    }
   ],
   "source": [
    "#Convert a string to uppercase and lowercase using string methods\n",
    "\n",
    "course = \"Python is A programming Languague\"\n",
    "print(\"Uppercase:\", course.upper())\n",
    "print(\"Lowercase:\", course.lower())"
   ]
  },
  {
   "cell_type": "code",
   "execution_count": 10,
   "id": "6089cfc2",
   "metadata": {},
   "outputs": [
    {
     "name": "stdout",
     "output_type": "stream",
     "text": [
      "replaced: It's good to be an expert\n"
     ]
    }
   ],
   "source": [
    "#replace all occurrences of a word in a string with another word\n",
    "\n",
    "course = \"It's good to be a expert\"\n",
    "newword = course.replace(\"a\", \"an\")\n",
    "print(\"replaced:\", newword)"
   ]
  },
  {
   "cell_type": "code",
   "execution_count": 14,
   "id": "de7cee1a",
   "metadata": {},
   "outputs": [
    {
     "name": "stdout",
     "output_type": "stream",
     "text": [
      "False\n"
     ]
    }
   ],
   "source": [
    "#Check if a given substring exists in a string using the in operator\n",
    "\n",
    "students = \"Ali\", \"Fatima\", \"Richard\", \"Joy\"\n",
    "checkedword = \"Ahmed\" in students\n",
    "print(checkedword)"
   ]
  },
  {
   "cell_type": "code",
   "execution_count": 18,
   "id": "0c9441a4",
   "metadata": {},
   "outputs": [
    {
     "name": "stdout",
     "output_type": "stream",
     "text": [
      "Joy is a good girl\n"
     ]
    }
   ],
   "source": [
    "#Reverse a string using slicing and print the result\n",
    "\n",
    "attitude = \"lrig doog a si yoJ\"\n",
    "print(attitude[::-1])"
   ]
  },
  {
   "cell_type": "code",
   "execution_count": 25,
   "id": "b6f09e3b",
   "metadata": {},
   "outputs": [
    {
     "name": "stdout",
     "output_type": "stream",
     "text": [
      "splited words: [\"It's\", 'good', 'to', 'be', 'a', 'expert']\n",
      "joined word: It's good to be a expert\n"
     ]
    }
   ],
   "source": [
    "#Split a string into a list of words and join it back into a single string.\n",
    "\n",
    "course = \"It's good to be a expert\"\n",
    "splitwords = course.split()\n",
    "joinwords = \" \".join(splitwords)\n",
    "print(\"splited words:\", splitwords)\n",
    "print(\"joined word:\", joinwords)"
   ]
  },
  {
   "cell_type": "code",
   "execution_count": 26,
   "id": "79c2b07e",
   "metadata": {},
   "outputs": [
    {
     "name": "stdout",
     "output_type": "stream",
     "text": [
      "3\n"
     ]
    }
   ],
   "source": [
    "#Count the number of occurrences of a specific character in a string.\n",
    "course = \"It's good to be a expert\"\n",
    "count = course.count(\"o\")\n",
    "print(count)"
   ]
  },
  {
   "cell_type": "code",
   "execution_count": 28,
   "id": "72967293",
   "metadata": {},
   "outputs": [
    {
     "name": "stdout",
     "output_type": "stream",
     "text": [
      "Hello Eric, would you like to learn some python today?\n"
     ]
    }
   ],
   "source": [
    "#Write a program that formats a string using f-strings or the .format() method\n",
    "\n",
    "name_cases = \"Eric\"\n",
    "print(f\"Hello {name_cases}, would you like to learn some python today?\")"
   ]
  },
  {
   "cell_type": "code",
   "execution_count": null,
   "id": "3be88069",
   "metadata": {},
   "outputs": [],
   "source": []
  },
  {
   "cell_type": "code",
   "execution_count": null,
   "id": "9b9d61b0",
   "metadata": {},
   "outputs": [],
   "source": []
  },
  {
   "cell_type": "code",
   "execution_count": null,
   "id": "989ed9b6",
   "metadata": {},
   "outputs": [],
   "source": []
  },
  {
   "cell_type": "markdown",
   "id": "efb614dc",
   "metadata": {},
   "source": [
    "# DAY 2\n",
    "\n",
    "## Exercise 1: Strings"
   ]
  },
  {
   "cell_type": "code",
   "execution_count": 56,
   "id": "9073830e",
   "metadata": {},
   "outputs": [
    {
     "name": "stdout",
     "output_type": "stream",
     "text": [
      "Hello Python\n"
     ]
    }
   ],
   "source": [
    "#Concatenate Strings: Write a program to concatenate \"Hello\" and \"Python\" with a space between them\n",
    "\n",
    "greeting = \"Hello\"\n",
    "language = \"Python\"\n",
    "concatenated = greeting + \" \" + language\n",
    "print(concatenated)\n"
   ]
  },
  {
   "cell_type": "code",
   "execution_count": 60,
   "id": "403482c0",
   "metadata": {},
   "outputs": [
    {
     "name": "stdout",
     "output_type": "stream",
     "text": [
      "length of string: 24\n"
     ]
    }
   ],
   "source": [
    "#Find String Length: Calculate and print the length of \"Learn to code in Python!\".\n",
    "\n",
    "advice = \"Learn to code in Python!\"\n",
    "print(\"length of string:\", len(advice))\n",
    "#print(\"Length of the string:\", length)"
   ]
  },
  {
   "cell_type": "code",
   "execution_count": 63,
   "id": "15664e5f",
   "metadata": {},
   "outputs": [
    {
     "name": "stdout",
     "output_type": "stream",
     "text": [
      "Extracted Substring: Programming\n"
     ]
    }
   ],
   "source": [
    "#Extract Substring: From the string \"Python Programming\", extract the substring \"Program\".\n",
    "\n",
    "name = \"Python Programming\"\n",
    "subname = name[7:]\n",
    "print(\"Extracted Substring:\", subname)\n",
    "\n",
    "#full_string = \"Python Programming\"\n",
    "#substring = full_string[7:14]\n",
    "#print(\"Extracted Substring:\", substring)"
   ]
  },
  {
   "cell_type": "code",
   "execution_count": 9,
   "id": "acf456b8",
   "metadata": {},
   "outputs": [
    {
     "name": "stdout",
     "output_type": "stream",
     "text": [
      "Uppercase: PYTHON ROCKS!\n",
      "Lowercase: python rocks!\n",
      "Title Case: Python Rocks!\n"
     ]
    }
   ],
   "source": [
    "#Change Case: Convert \"Python Rocks!\" to uppercase, lowercase, and title case.\n",
    "\n",
    "text = \"Python Rocks!\"\n",
    "print(\"Uppercase:\", text.upper())\n",
    "print(\"Lowercase:\", text.lower())\n",
    "print(\"Title Case:\", text.title())"
   ]
  },
  {
   "cell_type": "code",
   "execution_count": 83,
   "id": "f6aa29f7",
   "metadata": {},
   "outputs": [
    {
     "name": "stdout",
     "output_type": "stream",
     "text": [
      "Replace Substring: Python is not good\n"
     ]
    }
   ],
   "source": [
    "#Replace Substring: Replace \"bad\" with \"good\" in the string \"Python is not bad\".\n",
    "\n",
    "decide = \"Python is not bad\"\n",
    "decided = decide.replace(\"bad\", \"good\")\n",
    "print(\"Replace Substring:\", decided)"
   ]
  },
  {
   "cell_type": "code",
   "execution_count": 12,
   "id": "8492475f",
   "metadata": {},
   "outputs": [
    {
     "name": "stdout",
     "output_type": "stream",
     "text": [
      "Does 'code' exist in the string? False\n"
     ]
    }
   ],
   "source": [
    "#Check Substring: Check if \"code\" exists in \"Coding is fun with Python\".\n",
    "\n",
    "check_string = \"Coding is fun with Python\"\n",
    "exists = \"code\" in check_string\n",
    "print(\"Does 'code' exist in the string?\", exists)"
   ]
  },
  {
   "cell_type": "code",
   "execution_count": 12,
   "id": "90092fd4",
   "metadata": {},
   "outputs": [
    {
     "name": "stdout",
     "output_type": "stream",
     "text": [
      "Reversed String: nohtyP\n"
     ]
    }
   ],
   "source": [
    "#Reverse String: Reverse \"Python\" and print it.\n",
    "\n",
    "to_reverse = \"Python\"\n",
    "reversed_string = to_reverse[::-1]\n",
    "print(\"Reversed String:\", reversed_string)"
   ]
  },
  {
   "cell_type": "code",
   "execution_count": 13,
   "id": "97927fc8",
   "metadata": {},
   "outputs": [
    {
     "name": "stdout",
     "output_type": "stream",
     "text": [
      "Split List: ['Learn', 'Python', 'the', 'easy', 'way']\n",
      "Joined String: Learn-Python-the-easy-way\n"
     ]
    }
   ],
   "source": [
    "#Split and Join\n",
    "split_string = \"Learn Python the easy way\"\n",
    "split_list = split_string.split()\n",
    "joined_string = \"-\".join(split_list)\n",
    "print(\"Split List:\", split_list)\n",
    "print(\"Joined String:\", joined_string)"
   ]
  },
  {
   "cell_type": "code",
   "execution_count": 14,
   "id": "08986181",
   "metadata": {},
   "outputs": [
    {
     "name": "stdout",
     "output_type": "stream",
     "text": [
      "Occurrences of 'a': 6\n"
     ]
    }
   ],
   "source": [
    "#Count Occurrences\n",
    "fruit_string = \"banana apple avocado\"\n",
    "count_a = fruit_string.count('a')\n",
    "print(\"Occurrences of 'a':\", count_a)"
   ]
  },
  {
   "cell_type": "code",
   "execution_count": 15,
   "id": "e1e8b9e3",
   "metadata": {},
   "outputs": [
    {
     "name": "stdout",
     "output_type": "stream",
     "text": [
      "Formatted String: I scored 95 in Python, which is awesome!\n"
     ]
    }
   ],
   "source": [
    "#String Formatting\n",
    "score = 95\n",
    "formatted_string = f\"I scored {score} in Python, which is awesome!\"\n",
    "print(\"Formatted String:\", formatted_string)"
   ]
  },
  {
   "cell_type": "markdown",
   "id": "fcfa66b8",
   "metadata": {},
   "source": [
    "## Exercise 2: Lists/Tuples"
   ]
  },
  {
   "cell_type": "code",
   "execution_count": 16,
   "id": "a5a8e452",
   "metadata": {},
   "outputs": [
    {
     "name": "stdout",
     "output_type": "stream",
     "text": [
      "First item: apple\n",
      "Last item: elderberry\n"
     ]
    }
   ],
   "source": [
    "# 1. Create and Print List\n",
    "fruits = [\"apple\", \"banana\", \"cherry\", \"date\", \"elderberry\"]\n",
    "print(\"First item:\", fruits[0])\n",
    "print(\"Last item:\", fruits[-1])"
   ]
  },
  {
   "cell_type": "code",
   "execution_count": 18,
   "id": "b007d3b0",
   "metadata": {},
   "outputs": [
    {
     "name": "stdout",
     "output_type": "stream",
     "text": [
      "Modified list: ['apple', 'blueberry', 'date', 'elderberry', 'fig']\n"
     ]
    }
   ],
   "source": [
    "# 2. Modify List\n",
    "fruits.append(\"fig\")  # Add \"fig\"\n",
    "fruits.remove(\"cherry\")  # Remove \"cherry\"\n",
    "fruits[1] = \"blueberry\"  # Replace \"banana\" with \"blueberry\"\n",
    "print(\"Modified list:\", fruits)"
   ]
  },
  {
   "cell_type": "code",
   "execution_count": 19,
   "id": "2e0af387",
   "metadata": {},
   "outputs": [
    {
     "name": "stdout",
     "output_type": "stream",
     "text": [
      "Sorted list: ['apple', 'blueberry', 'date', 'elderberry', 'fig']\n",
      "Reversed list: ['fig', 'elderberry', 'date', 'blueberry', 'apple']\n"
     ]
    }
   ],
   "source": [
    "# 3. Sort and Reverse List\n",
    "fruits.sort()  # Sort in ascending order\n",
    "print(\"Sorted list:\", fruits)\n",
    "fruits.reverse()  # Reverse the list\n",
    "print(\"Reversed list:\", fruits)"
   ]
  },
  {
   "cell_type": "code",
   "execution_count": 20,
   "id": "cd8908c2",
   "metadata": {},
   "outputs": [
    {
     "name": "stdout",
     "output_type": "stream",
     "text": [
      "First three languages: ['Python', 'Java', 'C++']\n"
     ]
    }
   ],
   "source": [
    "# 4. Slice List\n",
    "languages = [\"Python\", \"Java\", \"C++\", \"Ruby\", \"Go\"]\n",
    "first_three = languages[:3]\n",
    "print(\"First three languages:\", first_three)"
   ]
  },
  {
   "cell_type": "code",
   "execution_count": 21,
   "id": "c35956fd",
   "metadata": {},
   "outputs": [
    {
     "name": "stdout",
     "output_type": "stream",
     "text": [
      "Sum of numbers: 150\n"
     ]
    }
   ],
   "source": [
    "# 5. Sum of List\n",
    "numbers = [10, 20, 30, 40, 50]\n",
    "total = sum(numbers)\n",
    "print(\"Sum of numbers:\", total)"
   ]
  },
  {
   "cell_type": "code",
   "execution_count": 22,
   "id": "1ce09021",
   "metadata": {},
   "outputs": [
    {
     "name": "stdout",
     "output_type": "stream",
     "text": [
      "Maximum value: 25\n",
      "Minimum value: 5\n"
     ]
    }
   ],
   "source": [
    "# 6. Tuple Creation\n",
    "num_tuple = (5, 10, 15, 20, 25)\n",
    "print(\"Maximum value:\", max(num_tuple))\n",
    "print(\"Minimum value:\", min(num_tuple))"
   ]
  },
  {
   "cell_type": "code",
   "execution_count": 23,
   "id": "509ca097",
   "metadata": {},
   "outputs": [
    {
     "name": "stdout",
     "output_type": "stream",
     "text": [
      "Converted tuple: ('red', 'green', 'blue')\n"
     ]
    }
   ],
   "source": [
    "# 7. Convert List to Tuple\n",
    "colors = [\"red\", \"green\", \"blue\"]\n",
    "color_tuple = tuple(colors)\n",
    "print(\"Converted tuple:\", color_tuple)"
   ]
  },
  {
   "cell_type": "code",
   "execution_count": 24,
   "id": "e80f8069",
   "metadata": {},
   "outputs": [
    {
     "name": "stdout",
     "output_type": "stream",
     "text": [
      "Unpacked values: 1 2 3\n"
     ]
    }
   ],
   "source": [
    "# 8. Unpack Tuple\n",
    "values = (1, 2, 3)\n",
    "a, b, c = values\n",
    "print(\"Unpacked values:\", a, b, c)"
   ]
  },
  {
   "cell_type": "code",
   "execution_count": 25,
   "id": "f8fb43a3",
   "metadata": {},
   "outputs": [
    {
     "name": "stdout",
     "output_type": "stream",
     "text": [
      "Squares of numbers from 1 to 10: [1, 4, 9, 16, 25, 36, 49, 64, 81, 100]\n"
     ]
    }
   ],
   "source": [
    "# 9. List Comprehension\n",
    "squares = [x**2 for x in range(1, 11)]\n",
    "print(\"Squares of numbers from 1 to 10:\", squares)"
   ]
  },
  {
   "cell_type": "code",
   "execution_count": 26,
   "id": "813b0aa8",
   "metadata": {},
   "outputs": [
    {
     "name": "stdout",
     "output_type": "stream",
     "text": [
      "Index of 'C++': 2\n"
     ]
    }
   ],
   "source": [
    "# 10. Find Index\n",
    "language_index = languages.index(\"C++\")\n",
    "print(\"Index of 'C++':\", language_index)"
   ]
  },
  {
   "cell_type": "markdown",
   "id": "3b2f87bb",
   "metadata": {},
   "source": [
    "## Exercise 3: Dictionaries"
   ]
  },
  {
   "cell_type": "code",
   "execution_count": 27,
   "id": "5de382b1",
   "metadata": {},
   "outputs": [
    {
     "name": "stdout",
     "output_type": "stream",
     "text": [
      "Dictionary: {'name': 'Alice', 'age': 25, 'city': 'New York'}\n"
     ]
    }
   ],
   "source": [
    "# 1. Create Dictionary\n",
    "person = {\"name\": \"Alice\", \"age\": 25, \"city\": \"New York\"}\n",
    "print(\"Dictionary:\", person)"
   ]
  },
  {
   "cell_type": "code",
   "execution_count": 28,
   "id": "7f69c6b9",
   "metadata": {},
   "outputs": [
    {
     "name": "stdout",
     "output_type": "stream",
     "text": [
      "Value of 'city': New York\n"
     ]
    }
   ],
   "source": [
    "# 2. Access Value\n",
    "city = person[\"city\"]\n",
    "print(\"Value of 'city':\", city)"
   ]
  },
  {
   "cell_type": "code",
   "execution_count": 30,
   "id": "85c7aca7",
   "metadata": {},
   "outputs": [
    {
     "name": "stdout",
     "output_type": "stream",
     "text": [
      "Updated Dictionary: {'name': 'Alice', 'age': 30, 'city': 'New York'}\n"
     ]
    }
   ],
   "source": [
    "# 3. Update Value\n",
    "person[\"age\"] = 30\n",
    "print(\"Updated Dictionary:\", person)"
   ]
  },
  {
   "cell_type": "code",
   "execution_count": 31,
   "id": "254cdeea",
   "metadata": {},
   "outputs": [
    {
     "name": "stdout",
     "output_type": "stream",
     "text": [
      "Dictionary after adding 'country': {'name': 'Alice', 'age': 30, 'city': 'New York', 'country': 'USA'}\n"
     ]
    }
   ],
   "source": [
    "# 4. Add Key-Value Pair\n",
    "person[\"country\"] = \"USA\"\n",
    "print(\"Dictionary after adding 'country':\", person)"
   ]
  },
  {
   "cell_type": "code",
   "execution_count": 32,
   "id": "0255d48b",
   "metadata": {},
   "outputs": [
    {
     "name": "stdout",
     "output_type": "stream",
     "text": [
      "Dictionary after removing 'city': {'name': 'Alice', 'age': 30, 'country': 'USA'}\n"
     ]
    }
   ],
   "source": [
    "# 5. Delete Key\n",
    "del person[\"city\"]\n",
    "print(\"Dictionary after removing 'city':\", person)"
   ]
  },
  {
   "cell_type": "code",
   "execution_count": 33,
   "id": "f9cfb1bb",
   "metadata": {},
   "outputs": [
    {
     "name": "stdout",
     "output_type": "stream",
     "text": [
      "Does 'name' exist in the dictionary? True\n"
     ]
    }
   ],
   "source": [
    "# 6. Check Key Existence\n",
    "key_exists = \"name\" in person\n",
    "print(\"Does 'name' exist in the dictionary?\", key_exists)"
   ]
  },
  {
   "cell_type": "code",
   "execution_count": 34,
   "id": "6e8006a3",
   "metadata": {},
   "outputs": [
    {
     "name": "stdout",
     "output_type": "stream",
     "text": [
      "Dictionary items:\n",
      "name: Alice\n",
      "age: 30\n",
      "country: USA\n"
     ]
    }
   ],
   "source": [
    "# 7. Iterate Dictionary\n",
    "print(\"Dictionary items:\")\n",
    "for key, value in person.items():\n",
    "    print(f\"{key}: {value}\")"
   ]
  },
  {
   "cell_type": "code",
   "execution_count": 35,
   "id": "bd3622db",
   "metadata": {},
   "outputs": [
    {
     "name": "stdout",
     "output_type": "stream",
     "text": [
      "Merged Dictionary: {'x': 1, 'y': 3, 'z': 4}\n"
     ]
    }
   ],
   "source": [
    "# 8. Merge Dictionaries\n",
    "dict1 = {\"x\": 1, \"y\": 2}\n",
    "dict2 = {\"y\": 3, \"z\": 4}\n",
    "merged_dict = {**dict1, **dict2}  # In Python 3.9+, you can use dict1 | dict2\n",
    "print(\"Merged Dictionary:\", merged_dict)"
   ]
  },
  {
   "cell_type": "code",
   "execution_count": 36,
   "id": "665ee7a8",
   "metadata": {},
   "outputs": [
    {
     "name": "stdout",
     "output_type": "stream",
     "text": [
      "Keys: ['Python', 'Java', 'C++']\n",
      "Values: [1991, 1995, 1985]\n"
     ]
    }
   ],
   "source": [
    "# 9. Dictionary Keys and Values\n",
    "languages = {\"Python\": 1991, \"Java\": 1995, \"C++\": 1985}\n",
    "print(\"Keys:\", list(languages.keys()))\n",
    "print(\"Values:\", list(languages.values()))"
   ]
  },
  {
   "cell_type": "code",
   "execution_count": 37,
   "id": "8427ad30",
   "metadata": {},
   "outputs": [
    {
     "name": "stdout",
     "output_type": "stream",
     "text": [
      "Dictionary of numbers and their squares: {1: 1, 2: 4, 3: 9, 4: 16, 5: 25}\n"
     ]
    }
   ],
   "source": [
    "# 10. Dictionary Comprehension\n",
    "squared_dict = {x: x**2 for x in range(1, 6)}\n",
    "print(\"Dictionary of numbers and their squares:\", squared_dict)"
   ]
  },
  {
   "cell_type": "markdown",
   "id": "85d2e3bc",
   "metadata": {},
   "source": [
    "## Exercise 4: Sets"
   ]
  },
  {
   "cell_type": "code",
   "execution_count": 38,
   "id": "43da6378",
   "metadata": {},
   "outputs": [
    {
     "name": "stdout",
     "output_type": "stream",
     "text": [
      "Created Set: {'green', 'red', 'blue'}\n"
     ]
    }
   ],
   "source": [
    "# 1. Create and Print Set\n",
    "colors = {\"red\", \"green\", \"blue\"}\n",
    "print(\"Created Set:\", colors)"
   ]
  },
  {
   "cell_type": "code",
   "execution_count": 39,
   "id": "a92e0c6b",
   "metadata": {},
   "outputs": [
    {
     "name": "stdout",
     "output_type": "stream",
     "text": [
      "Set after adding 'yellow': {'green', 'red', 'yellow', 'blue'}\n"
     ]
    }
   ],
   "source": [
    "# 2. Add Element\n",
    "colors.add(\"yellow\")\n",
    "print(\"Set after adding 'yellow':\", colors)"
   ]
  },
  {
   "cell_type": "code",
   "execution_count": 40,
   "id": "f0a15c64",
   "metadata": {},
   "outputs": [
    {
     "name": "stdout",
     "output_type": "stream",
     "text": [
      "Set after removing 'green': {'red', 'yellow', 'blue'}\n"
     ]
    }
   ],
   "source": [
    "# 3. Remove Element\n",
    "colors.remove(\"green\")\n",
    "print(\"Set after removing 'green':\", colors)"
   ]
  },
  {
   "cell_type": "code",
   "execution_count": 41,
   "id": "204df615",
   "metadata": {},
   "outputs": [
    {
     "name": "stdout",
     "output_type": "stream",
     "text": [
      "Is 'blue' in the set? True\n"
     ]
    }
   ],
   "source": [
    "# 4. Check Membership\n",
    "is_blue_in_set = \"blue\" in colors\n",
    "print(\"Is 'blue' in the set?\", is_blue_in_set)"
   ]
  },
  {
   "cell_type": "code",
   "execution_count": 42,
   "id": "a92d29e4",
   "metadata": {},
   "outputs": [
    {
     "name": "stdout",
     "output_type": "stream",
     "text": [
      "Union of sets: {1, 2, 3, 4, 5}\n"
     ]
    }
   ],
   "source": [
    "# 5. Union of Sets\n",
    "set_a = {1, 2, 3}\n",
    "set_b = {3, 4, 5}\n",
    "union_set = set_a.union(set_b)\n",
    "print(\"Union of sets:\", union_set)"
   ]
  },
  {
   "cell_type": "code",
   "execution_count": 43,
   "id": "a39b18c2",
   "metadata": {},
   "outputs": [
    {
     "name": "stdout",
     "output_type": "stream",
     "text": [
      "Intersection of sets: {3}\n"
     ]
    }
   ],
   "source": [
    "# 6. Intersection of Sets\n",
    "intersection_set = set_a.intersection(set_b)\n",
    "print(\"Intersection of sets:\", intersection_set)"
   ]
  },
  {
   "cell_type": "code",
   "execution_count": 44,
   "id": "801a451e",
   "metadata": {},
   "outputs": [
    {
     "name": "stdout",
     "output_type": "stream",
     "text": [
      "Difference of sets (set_a - set_b): {1, 2}\n"
     ]
    }
   ],
   "source": [
    "# 7. Difference of Sets\n",
    "difference_set = set_a.difference(set_b)\n",
    "print(\"Difference of sets (set_a - set_b):\", difference_set)"
   ]
  },
  {
   "cell_type": "code",
   "execution_count": 45,
   "id": "ff93c0a6",
   "metadata": {},
   "outputs": [
    {
     "name": "stdout",
     "output_type": "stream",
     "text": [
      "Length of the set: 5\n"
     ]
    }
   ],
   "source": [
    "# 8. Set Length\n",
    "length_of_set = len({1, 2, 3, 4, 5})\n",
    "print(\"Length of the set:\", length_of_set)"
   ]
  },
  {
   "cell_type": "code",
   "execution_count": 46,
   "id": "bb658584",
   "metadata": {},
   "outputs": [
    {
     "name": "stdout",
     "output_type": "stream",
     "text": [
      "Is {1, 2} a subset of {1, 2, 3, 4}? True\n",
      "Is {1, 2, 3, 4} a superset of {1, 2}? True\n"
     ]
    }
   ],
   "source": [
    "# 9. Set Operations (Subset and Superset)\n",
    "set_c = {1, 2}\n",
    "set_d = {1, 2, 3, 4}\n",
    "is_subset = set_c.issubset(set_d)\n",
    "is_superset = set_d.issuperset(set_c)\n",
    "print(\"Is {1, 2} a subset of {1, 2, 3, 4}?\", is_subset)\n",
    "print(\"Is {1, 2, 3, 4} a superset of {1, 2}?\", is_superset)"
   ]
  },
  {
   "cell_type": "code",
   "execution_count": 47,
   "id": "6b884181",
   "metadata": {},
   "outputs": [
    {
     "name": "stdout",
     "output_type": "stream",
     "text": [
      "Set after removing duplicates: {1, 2, 3, 4}\n"
     ]
    }
   ],
   "source": [
    "# 10. Convert List to Set\n",
    "number_list = [1, 2, 2, 3, 4, 4]\n",
    "unique_numbers = set(number_list)\n",
    "print(\"Set after removing duplicates:\", unique_numbers)"
   ]
  },
  {
   "cell_type": "code",
   "execution_count": null,
   "id": "bf55e2ee",
   "metadata": {},
   "outputs": [],
   "source": []
  },
  {
   "cell_type": "code",
   "execution_count": null,
   "id": "ddcabeae",
   "metadata": {},
   "outputs": [],
   "source": []
  },
  {
   "cell_type": "code",
   "execution_count": null,
   "id": "7a54d1d0",
   "metadata": {},
   "outputs": [],
   "source": []
  },
  {
   "cell_type": "code",
   "execution_count": null,
   "id": "b50ca9ce",
   "metadata": {},
   "outputs": [],
   "source": []
  },
  {
   "cell_type": "code",
   "execution_count": null,
   "id": "9fbf66a9",
   "metadata": {},
   "outputs": [],
   "source": []
  },
  {
   "cell_type": "code",
   "execution_count": null,
   "id": "5f1b95ba",
   "metadata": {},
   "outputs": [],
   "source": []
  },
  {
   "cell_type": "markdown",
   "id": "7046f521",
   "metadata": {},
   "source": []
  },
  {
   "cell_type": "code",
   "execution_count": null,
   "id": "4dc8267b",
   "metadata": {},
   "outputs": [],
   "source": []
  },
  {
   "cell_type": "code",
   "execution_count": null,
   "id": "6119cf03",
   "metadata": {},
   "outputs": [],
   "source": []
  },
  {
   "cell_type": "code",
   "execution_count": null,
   "id": "813b4ae5",
   "metadata": {},
   "outputs": [],
   "source": []
  },
  {
   "cell_type": "code",
   "execution_count": null,
   "id": "cfd8624e",
   "metadata": {},
   "outputs": [],
   "source": []
  }
 ],
 "metadata": {
  "kernelspec": {
   "display_name": "Python 3 (ipykernel)",
   "language": "python",
   "name": "python3"
  },
  "language_info": {
   "codemirror_mode": {
    "name": "ipython",
    "version": 3
   },
   "file_extension": ".py",
   "mimetype": "text/x-python",
   "name": "python",
   "nbconvert_exporter": "python",
   "pygments_lexer": "ipython3",
   "version": "3.9.13"
  }
 },
 "nbformat": 4,
 "nbformat_minor": 5
}
